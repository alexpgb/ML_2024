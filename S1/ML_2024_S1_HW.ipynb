{
 "cells": [
  {
   "cell_type": "markdown",
   "metadata": {},
   "source": [
    "Задача студентов состоит в расчете среднеквадратичной ошибки (MSE) и средней абсолютной ошибки (MAE) для данного набора данных без использования модели. \n",
    "Студенты должны использовать правильные значения фактической переменной и предсказанные значения для расчета функций потерь. Они также должны проанализировать результаты и объяснить, какие значения функции потерь указывают на лучшую точность предсказания.\n"
   ]
  },
  {
   "cell_type": "code",
   "execution_count": 1,
   "metadata": {},
   "outputs": [],
   "source": [
    "import numpy as np"
   ]
  },
  {
   "cell_type": "code",
   "execution_count": 2,
   "metadata": {},
   "outputs": [],
   "source": [
    "actual_values = np.array([100, 150, 200, 250])\n",
    "predicted_values = np.array([90, 140, 180, 270])"
   ]
  },
  {
   "cell_type": "code",
   "execution_count": 8,
   "metadata": {},
   "outputs": [
    {
     "data": {
      "text/plain": [
       "250.0"
      ]
     },
     "execution_count": 8,
     "metadata": {},
     "output_type": "execute_result"
    }
   ],
   "source": [
    "mse = np.mean(np.power(actual_values - predicted_values, 2))\n",
    "mse"
   ]
  },
  {
   "cell_type": "code",
   "execution_count": 12,
   "metadata": {},
   "outputs": [
    {
     "data": {
      "text/plain": [
       "15.0"
      ]
     },
     "execution_count": 12,
     "metadata": {},
     "output_type": "execute_result"
    }
   ],
   "source": [
    "mae = np.mean(np.abs(actual_values - predicted_values))\n",
    "mae"
   ]
  },
  {
   "cell_type": "code",
   "execution_count": null,
   "metadata": {},
   "outputs": [],
   "source": [
    "# Меньшие значения функции потерь указывают на лучшую точность предсказния. \n",
    "# Нулевое значение функции потерь свидетельствует о том, что предсказанные значения совпадают с фактической переменной"
   ]
  }
 ],
 "metadata": {
  "kernelspec": {
   "display_name": ".python_b_hw",
   "language": "python",
   "name": "python3"
  },
  "language_info": {
   "codemirror_mode": {
    "name": "ipython",
    "version": 3
   },
   "file_extension": ".py",
   "mimetype": "text/x-python",
   "name": "python",
   "nbconvert_exporter": "python",
   "pygments_lexer": "ipython3",
   "version": "3.10.11"
  }
 },
 "nbformat": 4,
 "nbformat_minor": 2
}
